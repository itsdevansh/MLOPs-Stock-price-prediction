{
 "cells": [
  {
   "cell_type": "markdown",
   "metadata": {},
   "source": [
    "Initial set of features was created by scraping Yahoo Finance.\n",
    "The features that were retrieved were:\n",
    "1. Open\n",
    "2. High\n",
    "3. Low\n",
    "4. Close\n",
    "5. Adjusted Close\n",
    "6. Volume\n"
   ]
  },
  {
   "cell_type": "markdown",
   "metadata": {},
   "source": [
    "### Additioanl Features and what they represent:\n",
    "1. SMA (Simple Moving Average)\n",
    "2. EMA (Exponential Moving Average)\n",
    "3. RSI (Relative Strength Index)\n",
    "4. MACD (Moving Average Convergence Divergence)\n",
    "5. Bollinger Bands\n",
    "6. Ichimoku\n",
    "7. Stochastic Osciallator\n"
   ]
  },
  {
   "cell_type": "markdown",
   "metadata": {},
   "source": [
    "1. Simple Moving Average:\n",
    "Moving averages are calculated to identify the trend direction of a stock or to determine its support and resistance levels. It is a trend-following or lagging indicator because it is based on past prices.\n",
    "\n",
    "The longer the period for the moving average, the greater the lag. A 200-day moving average will have a much greater degree of lag than a 20-day MA because it contains prices for the past 200 days. Fifty-day and 200-day moving average figures are widely followed by investors and traders and are considered to be important trading signals.\n",
    "\n",
    "Investors may choose different periods of varying lengths to calculate moving averages based on their trading objectives. Shorter moving averages are typically used for short-term trading, while longer-term moving averages are more suited for long-term investors.\n",
    "\n",
    "While it is impossible to predict the future movement of a specific stock, using technical analysis and research can help make better predictions. A rising moving average indicates that the security is in an uptrend, while a declining moving average indicates that it is in a downtrend.\n",
    "\n",
    "Similarly, upward momentum is confirmed with a bullish crossover, which occurs when a short-term moving average crosses above a longer-term moving average. Conversely, downward momentum is confirmed with a bearish crossover, which occurs when a short-term moving average crosses below a longer-term moving average."
   ]
  },
  {
   "cell_type": "markdown",
   "metadata": {},
   "source": [
    "2. Exponential Moving Average:\n",
    "The exponential moving average gives more weight to recent prices in an attempt to make them more responsive to new information. To calculate an EMA, the simple moving average (SMA) over a particular period is calculated first.\n",
    "\n",
    "Then calculate the multiplier for weighting the EMA, known as the \"smoothing factor,\" which typically follows the formula: [2/(selected time period + 1)]. \n",
    "\n",
    "#TODO: Create a graph in the dashboard for visualizing momentum and stuff for the user"
   ]
  },
  {
   "cell_type": "markdown",
   "metadata": {},
   "source": []
  },
  {
   "cell_type": "markdown",
   "metadata": {},
   "source": [
    "2. Relative Strength Index:\n",
    "The relative strength index (RSI) is a momentum indicator used in technical analysis. RSI measures the speed and magnitude of a security's recent price changes to detect overvalued or undervalued conditions in the price of that security.\n",
    "\n",
    "In addition to identifying overbought and oversold securities, the RSI can also indicate securities that may be primed for a trend reversal or a corrective pullback in price. It can signal when to buy and sell. Traditionally, an RSI reading of 70 or above indicates an overbought condition. A reading of 30 or below indicates an oversold condition.\n",
    "\n",
    "The RSI uses a two-part calculation that starts with the following formula:\n",
    "RSI(step one) = 100 - [100/1+(Average gain/Average loss)]\n",
    "\n",
    "The average gain is the sum of all gains over the selected period divided by the number of periods. The average loss is the sum of all losses over the selected period divided by the number of periods.\n",
    "\n",
    "The formula uses a positive value for the average loss.\n",
    "\n",
    "Periods with price losses are counted as zero in the calculations of average gain. Periods with price increases are counted as zero in the calculations of average loss.\n",
    "\n",
    "RSI(step two) = 100 - [100/(1+RS)]\n",
    "\n",
    "RS = Average Gain/Average Loss\n",
    "\n",
    "The RSI is an oscillator that fluctuates between 0 and 100. The value of 50 is considered neutral. RSI values above 50 indicate that the asset is experiencing upward momentum, while values below 50 indicate downward momentum.\n",
    "\n",
    "\n",
    "Why Is RSI Important?\n",
    "Traders can use RSI to predict the price behavior of a security.\n",
    "It can help traders validate trends and trend reversals.\n",
    "It can point to overbought and oversold securities.\n",
    "It can provide short-term traders with buy and sell signals.\n",
    "It's a technical indicator that can be used with others to support trading strategies.\n",
    "\n",
    "Reference:\n",
    "https://www.investopedia.com/terms/r/rsi.asp\n",
    "\n",
    "#TODO: Create a graph in the dashboard for visualizing momentum and stuff for the user"
   ]
  },
  {
   "cell_type": "markdown",
   "metadata": {},
   "source": [
    "3. Williams %R: Williams %R is a momentum indicator that is the inverse of the Fast Stochastic Oscillator. Readings from 0 to -20 are considered overbought. Readings from -80 to -100 are considered oversold. Williams %R reflects the level of the close relative to the highest high for the look-back period. This is a bound oscillator and oscillates from 0 to -100. As a result, the Fast Stochastic Oscillator and Williams %R produce the exact same lines, only the scaling is different. Williams %R corrects for the inversion by multiplying the raw value by -100.\n",
    "\n",
    "Reference: https://www.fidelity.com/learning-center/trading-investing/technical-analysis/technical-indicator-guide/williams-r"
   ]
  },
  {
   "cell_type": "markdown",
   "metadata": {},
   "source": [
    "4. Stochastic Oscillator: It is an oscillator-type indicator, which means that it oscillates between two extreme values, indicating whether the market is overbought or oversold. The Stochastic Indicator measures the market’s momentum by comparing a security’s closing price to its price range over a specified period.\n",
    "\n",
    "The Stochastic works by comparing the current closing price of a security to its price range over a specified period. If the closing price is closer to the high end of the price range, the Stochastic Indicator will be higher, indicating that the market is overbought. If the closing price is closer to the low end of the price range, the Stochastic Indicator will be lower, indicating that the market is oversold.\n",
    "\n",
    "The Stochastic Indicator also uses a signal line, a moving average of the %K line, to help traders identify potential buy and sell signals. When the %K line crosses above the signal line, it is considered a buy signal, indicating that the market is likely to experience a bullish movement. When the %K line crosses below the signal line, it is considered a sell signal, indicating that the market is likely to experience a bearish movement.\n",
    "\n",
    "Reference: https://trendspider.com/learning-center/stochastic-an-indicator-for-predicting-market-trends/"
   ]
  },
  {
   "cell_type": "markdown",
   "metadata": {},
   "source": []
  }
 ],
 "metadata": {
  "kernelspec": {
   "display_name": "sp-project",
   "language": "python",
   "name": "python3"
  },
  "language_info": {
   "name": "python",
   "version": "3.9.6"
  }
 },
 "nbformat": 4,
 "nbformat_minor": 2
}
