{
 "cells": [
  {
   "cell_type": "code",
   "execution_count": 1,
   "metadata": {},
   "outputs": [
    {
     "name": "stderr",
     "output_type": "stream",
     "text": [
      "Matplotlib is building the font cache; this may take a moment.\n"
     ]
    }
   ],
   "source": [
    "import pandas as pd\n",
    "import matplotlib.pyplot as plt\n",
    "import seaborn as sns"
   ]
  },
  {
   "cell_type": "code",
   "execution_count": 3,
   "metadata": {},
   "outputs": [],
   "source": [
    "df = pd.read_csv(\"Trading data.csv\")"
   ]
  },
  {
   "cell_type": "code",
   "execution_count": 4,
   "metadata": {},
   "outputs": [
    {
     "data": {
      "text/html": [
       "<div>\n",
       "<style scoped>\n",
       "    .dataframe tbody tr th:only-of-type {\n",
       "        vertical-align: middle;\n",
       "    }\n",
       "\n",
       "    .dataframe tbody tr th {\n",
       "        vertical-align: top;\n",
       "    }\n",
       "\n",
       "    .dataframe thead th {\n",
       "        text-align: right;\n",
       "    }\n",
       "</style>\n",
       "<table border=\"1\" class=\"dataframe\">\n",
       "  <thead>\n",
       "    <tr style=\"text-align: right;\">\n",
       "      <th></th>\n",
       "      <th>Unnamed: 0</th>\n",
       "      <th>date</th>\n",
       "      <th>ticker</th>\n",
       "      <th>open</th>\n",
       "      <th>high</th>\n",
       "      <th>low</th>\n",
       "      <th>close</th>\n",
       "      <th>volume</th>\n",
       "    </tr>\n",
       "  </thead>\n",
       "  <tbody>\n",
       "    <tr>\n",
       "      <th>0</th>\n",
       "      <td>168</td>\n",
       "      <td>2024-09-12 09:30:00</td>\n",
       "      <td>AAPL</td>\n",
       "      <td>222.500</td>\n",
       "      <td>222.565</td>\n",
       "      <td>221.360</td>\n",
       "      <td>221.640</td>\n",
       "      <td>18224.0</td>\n",
       "    </tr>\n",
       "    <tr>\n",
       "      <th>1</th>\n",
       "      <td>169</td>\n",
       "      <td>2024-09-12 09:35:00</td>\n",
       "      <td>AAPL</td>\n",
       "      <td>221.620</td>\n",
       "      <td>221.755</td>\n",
       "      <td>220.885</td>\n",
       "      <td>220.935</td>\n",
       "      <td>15096.0</td>\n",
       "    </tr>\n",
       "    <tr>\n",
       "      <th>2</th>\n",
       "      <td>170</td>\n",
       "      <td>2024-09-12 09:40:00</td>\n",
       "      <td>AAPL</td>\n",
       "      <td>220.935</td>\n",
       "      <td>221.480</td>\n",
       "      <td>220.630</td>\n",
       "      <td>221.080</td>\n",
       "      <td>12705.0</td>\n",
       "    </tr>\n",
       "    <tr>\n",
       "      <th>3</th>\n",
       "      <td>171</td>\n",
       "      <td>2024-09-12 09:45:00</td>\n",
       "      <td>AAPL</td>\n",
       "      <td>221.055</td>\n",
       "      <td>221.160</td>\n",
       "      <td>219.930</td>\n",
       "      <td>219.970</td>\n",
       "      <td>14998.0</td>\n",
       "    </tr>\n",
       "    <tr>\n",
       "      <th>4</th>\n",
       "      <td>172</td>\n",
       "      <td>2024-09-12 09:50:00</td>\n",
       "      <td>AAPL</td>\n",
       "      <td>220.005</td>\n",
       "      <td>220.905</td>\n",
       "      <td>219.830</td>\n",
       "      <td>220.820</td>\n",
       "      <td>15464.0</td>\n",
       "    </tr>\n",
       "  </tbody>\n",
       "</table>\n",
       "</div>"
      ],
      "text/plain": [
       "   Unnamed: 0                 date ticker     open     high      low    close  \\\n",
       "0         168  2024-09-12 09:30:00   AAPL  222.500  222.565  221.360  221.640   \n",
       "1         169  2024-09-12 09:35:00   AAPL  221.620  221.755  220.885  220.935   \n",
       "2         170  2024-09-12 09:40:00   AAPL  220.935  221.480  220.630  221.080   \n",
       "3         171  2024-09-12 09:45:00   AAPL  221.055  221.160  219.930  219.970   \n",
       "4         172  2024-09-12 09:50:00   AAPL  220.005  220.905  219.830  220.820   \n",
       "\n",
       "    volume  \n",
       "0  18224.0  \n",
       "1  15096.0  \n",
       "2  12705.0  \n",
       "3  14998.0  \n",
       "4  15464.0  "
      ]
     },
     "execution_count": 4,
     "metadata": {},
     "output_type": "execute_result"
    }
   ],
   "source": [
    "df.head()"
   ]
  },
  {
   "cell_type": "code",
   "execution_count": 5,
   "metadata": {},
   "outputs": [
    {
     "data": {
      "text/plain": [
       "(9857, 8)"
      ]
     },
     "execution_count": 5,
     "metadata": {},
     "output_type": "execute_result"
    }
   ],
   "source": [
    "df.shape"
   ]
  },
  {
   "cell_type": "code",
   "execution_count": 6,
   "metadata": {},
   "outputs": [
    {
     "name": "stdout",
     "output_type": "stream",
     "text": [
      "99\n"
     ]
    }
   ],
   "source": [
    "print(len(pd.unique(df['ticker'])))"
   ]
  },
  {
   "cell_type": "code",
   "execution_count": 21,
   "metadata": {},
   "outputs": [],
   "source": [
    "stock_lengths = list(df.groupby('ticker').size())"
   ]
  },
  {
   "cell_type": "code",
   "execution_count": 8,
   "metadata": {},
   "outputs": [],
   "source": [
    "df_modified = df.drop(df.columns[[0]], axis=1)"
   ]
  },
  {
   "cell_type": "code",
   "execution_count": 9,
   "metadata": {},
   "outputs": [
    {
     "data": {
      "text/html": [
       "<div>\n",
       "<style scoped>\n",
       "    .dataframe tbody tr th:only-of-type {\n",
       "        vertical-align: middle;\n",
       "    }\n",
       "\n",
       "    .dataframe tbody tr th {\n",
       "        vertical-align: top;\n",
       "    }\n",
       "\n",
       "    .dataframe thead th {\n",
       "        text-align: right;\n",
       "    }\n",
       "</style>\n",
       "<table border=\"1\" class=\"dataframe\">\n",
       "  <thead>\n",
       "    <tr style=\"text-align: right;\">\n",
       "      <th></th>\n",
       "      <th>date</th>\n",
       "      <th>ticker</th>\n",
       "      <th>open</th>\n",
       "      <th>high</th>\n",
       "      <th>low</th>\n",
       "      <th>close</th>\n",
       "      <th>volume</th>\n",
       "    </tr>\n",
       "  </thead>\n",
       "  <tbody>\n",
       "    <tr>\n",
       "      <th>0</th>\n",
       "      <td>2024-09-12 09:30:00</td>\n",
       "      <td>AAPL</td>\n",
       "      <td>222.500</td>\n",
       "      <td>222.565</td>\n",
       "      <td>221.360</td>\n",
       "      <td>221.640</td>\n",
       "      <td>18224.0</td>\n",
       "    </tr>\n",
       "    <tr>\n",
       "      <th>1</th>\n",
       "      <td>2024-09-12 09:35:00</td>\n",
       "      <td>AAPL</td>\n",
       "      <td>221.620</td>\n",
       "      <td>221.755</td>\n",
       "      <td>220.885</td>\n",
       "      <td>220.935</td>\n",
       "      <td>15096.0</td>\n",
       "    </tr>\n",
       "    <tr>\n",
       "      <th>2</th>\n",
       "      <td>2024-09-12 09:40:00</td>\n",
       "      <td>AAPL</td>\n",
       "      <td>220.935</td>\n",
       "      <td>221.480</td>\n",
       "      <td>220.630</td>\n",
       "      <td>221.080</td>\n",
       "      <td>12705.0</td>\n",
       "    </tr>\n",
       "    <tr>\n",
       "      <th>3</th>\n",
       "      <td>2024-09-12 09:45:00</td>\n",
       "      <td>AAPL</td>\n",
       "      <td>221.055</td>\n",
       "      <td>221.160</td>\n",
       "      <td>219.930</td>\n",
       "      <td>219.970</td>\n",
       "      <td>14998.0</td>\n",
       "    </tr>\n",
       "    <tr>\n",
       "      <th>4</th>\n",
       "      <td>2024-09-12 09:50:00</td>\n",
       "      <td>AAPL</td>\n",
       "      <td>220.005</td>\n",
       "      <td>220.905</td>\n",
       "      <td>219.830</td>\n",
       "      <td>220.820</td>\n",
       "      <td>15464.0</td>\n",
       "    </tr>\n",
       "  </tbody>\n",
       "</table>\n",
       "</div>"
      ],
      "text/plain": [
       "                  date ticker     open     high      low    close   volume\n",
       "0  2024-09-12 09:30:00   AAPL  222.500  222.565  221.360  221.640  18224.0\n",
       "1  2024-09-12 09:35:00   AAPL  221.620  221.755  220.885  220.935  15096.0\n",
       "2  2024-09-12 09:40:00   AAPL  220.935  221.480  220.630  221.080  12705.0\n",
       "3  2024-09-12 09:45:00   AAPL  221.055  221.160  219.930  219.970  14998.0\n",
       "4  2024-09-12 09:50:00   AAPL  220.005  220.905  219.830  220.820  15464.0"
      ]
     },
     "execution_count": 9,
     "metadata": {},
     "output_type": "execute_result"
    }
   ],
   "source": [
    "df_modified.head()"
   ]
  },
  {
   "cell_type": "code",
   "execution_count": 17,
   "metadata": {},
   "outputs": [
    {
     "name": "stdout",
     "output_type": "stream",
     "text": [
      "                    date ticker     open     high      low    close    volume\n",
      "500  2024-09-12 09:30:00  GOOGL  153.815  154.410  152.995  154.095  103963.0\n",
      "501  2024-09-12 09:35:00  GOOGL  154.180  154.265  153.590  153.845   21761.0\n",
      "502  2024-09-12 09:40:00  GOOGL  153.850  154.060  153.385  153.975   18615.0\n",
      "503  2024-09-12 09:45:00  GOOGL  153.990  154.040  153.410  153.515   26469.0\n",
      "504  2024-09-12 09:50:00  GOOGL  153.520  153.670  153.300  153.565   11103.0\n",
      "..                   ...    ...      ...      ...      ...      ...       ...\n",
      "595  2024-09-16 10:55:00  GOOGL  157.960  158.000  157.805  157.890   10499.0\n",
      "596  2024-09-16 11:30:00  GOOGL  158.120  158.190  158.025  158.130    3728.0\n",
      "597  2024-09-16 11:35:00  GOOGL  158.125  158.135  157.770  157.780    5671.0\n",
      "598  2024-09-16 11:40:00  GOOGL  157.790  157.795  157.555  157.575    3915.0\n",
      "599  2024-09-16 11:45:00  GOOGL  157.570  157.585  157.460  157.490    1291.0\n",
      "\n",
      "[100 rows x 7 columns]\n"
     ]
    }
   ],
   "source": [
    "data = df_modified.loc[df['ticker'] == 'GOOGL']\n",
    "print(data)"
   ]
  },
  {
   "cell_type": "code",
   "execution_count": 19,
   "metadata": {},
   "outputs": [
    {
     "data": {
      "text/plain": [
       "Text(0.5, 1.0, 'The Stock Price')"
      ]
     },
     "execution_count": 19,
     "metadata": {},
     "output_type": "execute_result"
    },
    {
     "data": {
      "image/png": "[encoded data removed]",
      "text/plain": [
       "<Figure size 1400x500 with 1 Axes>"
      ]
     },
     "metadata": {},
     "output_type": "display_data"
    }
   ],
   "source": [
    "plt.figure(figsize=(14,5))\n",
    "sns.set_style(\"ticks\")\n",
    "sns.lineplot(data=data,x=\"date\",y='volume',color='firebrick')\n",
    "sns.despine()\n",
    "plt.title(\"The Stock Price\",size='x-large',color='blue')"
   ]
  },
  {
   "cell_type": "code",
   "execution_count": 20,
   "metadata": {},
   "outputs": [
    {
     "ename": "InvalidIndexError",
     "evalue": "(slice(None, None, None), slice(2, None, None))",
     "output_type": "error",
     "traceback": [
      "\u001b[0;31m---------------------------------------------------------------------------\u001b[0m",
      "\u001b[0;31mTypeError\u001b[0m                                 Traceback (most recent call last)",
      "File \u001b[0;32m~/Desktop/Work/Projects/Stock-price-prediction/venv/lib/python3.11/site-packages/pandas/core/indexes/base.py:3805\u001b[0m, in \u001b[0;36mIndex.get_loc\u001b[0;34m(self, key)\u001b[0m\n\u001b[1;32m   3804\u001b[0m \u001b[39mtry\u001b[39;00m:\n\u001b[0;32m-> 3805\u001b[0m     \u001b[39mreturn\u001b[39;00m \u001b[39mself\u001b[39;49m\u001b[39m.\u001b[39;49m_engine\u001b[39m.\u001b[39;49mget_loc(casted_key)\n\u001b[1;32m   3806\u001b[0m \u001b[39mexcept\u001b[39;00m \u001b[39mKeyError\u001b[39;00m \u001b[39mas\u001b[39;00m err:\n",
      "File \u001b[0;32mindex.pyx:167\u001b[0m, in \u001b[0;36mpandas._libs.index.IndexEngine.get_loc\u001b[0;34m()\u001b[0m\n",
      "File \u001b[0;32mindex.pyx:173\u001b[0m, in \u001b[0;36mpandas._libs.index.IndexEngine.get_loc\u001b[0;34m()\u001b[0m\n",
      "\u001b[0;31mTypeError\u001b[0m: '(slice(None, None, None), slice(2, None, None))' is an invalid key",
      "\nDuring handling of the above exception, another exception occurred:\n",
      "\u001b[0;31mInvalidIndexError\u001b[0m                         Traceback (most recent call last)",
      "Cell \u001b[0;32mIn[20], line 1\u001b[0m\n\u001b[0;32m----> 1\u001b[0m data \u001b[39m=\u001b[39m df_modified[:,\u001b[39m2\u001b[39;49m:]\n\u001b[1;32m      2\u001b[0m data\u001b[39m.\u001b[39mhead()\n",
      "File \u001b[0;32m~/Desktop/Work/Projects/Stock-price-prediction/venv/lib/python3.11/site-packages/pandas/core/frame.py:4102\u001b[0m, in \u001b[0;36mDataFrame.__getitem__\u001b[0;34m(self, key)\u001b[0m\n\u001b[1;32m   4100\u001b[0m \u001b[39mif\u001b[39;00m \u001b[39mself\u001b[39m\u001b[39m.\u001b[39mcolumns\u001b[39m.\u001b[39mnlevels \u001b[39m>\u001b[39m \u001b[39m1\u001b[39m:\n\u001b[1;32m   4101\u001b[0m     \u001b[39mreturn\u001b[39;00m \u001b[39mself\u001b[39m\u001b[39m.\u001b[39m_getitem_multilevel(key)\n\u001b[0;32m-> 4102\u001b[0m indexer \u001b[39m=\u001b[39m \u001b[39mself\u001b[39;49m\u001b[39m.\u001b[39;49mcolumns\u001b[39m.\u001b[39;49mget_loc(key)\n\u001b[1;32m   4103\u001b[0m \u001b[39mif\u001b[39;00m is_integer(indexer):\n\u001b[1;32m   4104\u001b[0m     indexer \u001b[39m=\u001b[39m [indexer]\n",
      "File \u001b[0;32m~/Desktop/Work/Projects/Stock-price-prediction/venv/lib/python3.11/site-packages/pandas/core/indexes/base.py:3817\u001b[0m, in \u001b[0;36mIndex.get_loc\u001b[0;34m(self, key)\u001b[0m\n\u001b[1;32m   3812\u001b[0m     \u001b[39mraise\u001b[39;00m \u001b[39mKeyError\u001b[39;00m(key) \u001b[39mfrom\u001b[39;00m \u001b[39merr\u001b[39;00m\n\u001b[1;32m   3813\u001b[0m \u001b[39mexcept\u001b[39;00m \u001b[39mTypeError\u001b[39;00m:\n\u001b[1;32m   3814\u001b[0m     \u001b[39m# If we have a listlike key, _check_indexing_error will raise\u001b[39;00m\n\u001b[1;32m   3815\u001b[0m     \u001b[39m#  InvalidIndexError. Otherwise we fall through and re-raise\u001b[39;00m\n\u001b[1;32m   3816\u001b[0m     \u001b[39m#  the TypeError.\u001b[39;00m\n\u001b[0;32m-> 3817\u001b[0m     \u001b[39mself\u001b[39;49m\u001b[39m.\u001b[39;49m_check_indexing_error(key)\n\u001b[1;32m   3818\u001b[0m     \u001b[39mraise\u001b[39;00m\n",
      "File \u001b[0;32m~/Desktop/Work/Projects/Stock-price-prediction/venv/lib/python3.11/site-packages/pandas/core/indexes/base.py:6059\u001b[0m, in \u001b[0;36mIndex._check_indexing_error\u001b[0;34m(self, key)\u001b[0m\n\u001b[1;32m   6055\u001b[0m \u001b[39mdef\u001b[39;00m \u001b[39m_check_indexing_error\u001b[39m(\u001b[39mself\u001b[39m, key):\n\u001b[1;32m   6056\u001b[0m     \u001b[39mif\u001b[39;00m \u001b[39mnot\u001b[39;00m is_scalar(key):\n\u001b[1;32m   6057\u001b[0m         \u001b[39m# if key is not a scalar, directly raise an error (the code below\u001b[39;00m\n\u001b[1;32m   6058\u001b[0m         \u001b[39m# would convert to numpy arrays and raise later any way) - GH29926\u001b[39;00m\n\u001b[0;32m-> 6059\u001b[0m         \u001b[39mraise\u001b[39;00m InvalidIndexError(key)\n",
      "\u001b[0;31mInvalidIndexError\u001b[0m: (slice(None, None, None), slice(2, None, None))"
     ]
    }
   ],
   "source": [
    "from sklearn.preprocessing import MinMaxScaler\n",
    "\n"
   ]
  },
  {
   "cell_type": "code",
   "execution_count": null,
   "metadata": {},
   "outputs": [],
   "source": []
  }
 ],
 "metadata": {
  "kernelspec": {
   "display_name": "accenture",
   "language": "python",
   "name": "python3"
  },
  "language_info": {
   "codemirror_mode": {
    "name": "ipython",
    "version": 3
   },
   "file_extension": ".py",
   "mimetype": "text/x-python",
   "name": "python",
   "nbconvert_exporter": "python",
   "pygments_lexer": "ipython3",
   "version": "3.11.7"
  },
  "orig_nbformat": 4
 },
 "nbformat": 4,
 "nbformat_minor": 2
}
