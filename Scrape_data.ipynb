{
 "cells": [
  {
   "cell_type": "code",
   "execution_count": 1,
   "id": "05acc6d7",
   "metadata": {},
   "outputs": [
    {
     "name": "stdout",
     "output_type": "stream",
     "text": [
      "{'ticker': 'AAPL', 'name': 'Apple Inc', 'description': \"Apple Inc. (Apple) designs, manufactures and markets mobile communication and media devices, personal computers, and portable digital music players, and a variety of related software, services, peripherals, networking solutions, and third-party digital content and applications. The Company's products and services include iPhone, iPad, Mac, iPod, Apple TV, a portfolio of consumer and professional software applications, the iOS and OS X operating systems, iCloud, and a variety of accessory, service and support offerings. The Company also delivers digital content and applications through the iTunes Store, App StoreSM, iBookstoreSM, and Mac App Store. The Company distributes its products worldwide through its retail stores, online stores, and direct sales force, as well as through third-party cellular network carriers, wholesalers, retailers, and value-added resellers. In February 2012, the Company acquired app-search engine Chomp.\", 'startDate': '1980-12-12', 'endDate': '2024-08-26', 'exchangeCode': 'NASDAQ'}\n"
     ]
    }
   ],
   "source": [
    "import requests\n",
    "\n",
    "headers = {\n",
    "    'Content-Type': 'application/json'\n",
    "}\n",
    "requestResponse = requests.get(\"https://api.tiingo.com/tiingo/daily/aapl?token=\"YOUR_TOKEN\"\", headers=headers)\n",
    "print(requestResponse.json())"
   ]
  },
  {
   "cell_type": "markdown",
   "id": "9c635591",
   "metadata": {},
   "source": [
    "##  This is Intraday data freq = every 5 MIns"
   ]
  },
  {
   "cell_type": "code",
   "execution_count": null,
   "id": "c6c89e5c",
   "metadata": {},
   "outputs": [],
   "source": [
    "headers = {\n",
    "    'Content-Type': 'application/json'\n",
    "}\n",
    "requestResponse = requests.get(\"https://api.tiingo.com/iex/aapl/prices?startDate=2019-01-02&resampleFreq=5min&columns=open,high,low,close,volume&token=e9099efb79717f8ff3d48cd67ab8ae71a6f71966\", headers=headers)\n",
    "print(requestResponse.json())\n",
    "https://api.tiingo.com/iex/<ticker>/prices?startDate=2019-01-02&resampleFreq=5min"
   ]
  },
  {
   "cell_type": "code",
   "execution_count": 1,
   "id": "4ffc560a",
   "metadata": {},
   "outputs": [],
   "source": [
    "import requests\n",
    "import pandas as pd\n",
    "import datetime\n",
    "\n",
    "# Define API endpoint\n",
    "api_url = \"https://api.tiingo.com/iex/\"\n",
    "ticker = \"AAPL\"\n",
    "start_date = (datetime.datetime.now() - datetime.timedelta(days=3)).strftime(\"%Y-%m-%d\")\n",
    "end_date = datetime.datetime.now().strftime(\"%Y-%m-%d\")\n",
    "\n",
    "columns = \"open,high,low,close,volume\"\n",
    "token = \"YOUR_API_KEY\"  # Tiingo API key\n",
    "\n",
    "# Acxtual API request URL\n",
    "url = f\"{api_url}{ticker}/prices?startDate={start_date}&endDate={end_date}&resampleFreq=5min&columns={columns}&token={token}\"\n",
    "\n",
    "try:\n",
    "  response = requests.get(url)\n",
    "  response.raise_for_status()\n",
    "except requests.exceptions.RequestException as e:\n",
    "  print(f\"Error: {e}\")\n",
    "  exit()\n"
   ]
  },
  {
   "cell_type": "code",
   "execution_count": 6,
   "id": "5fab6548",
   "metadata": {},
   "outputs": [
    {
     "name": "stdout",
     "output_type": "stream",
     "text": [
      "Data saved to Excel file: AAPL_2024-08-24_2024-08-27.xlsx\n"
     ]
    }
   ],
   "source": [
    "data = response.json()\n",
    "df = pd.DataFrame(data)\n",
    "\n",
    "df['date'] = pd.to_datetime(df['date'], utc=True).dt.tz_localize(None)\n",
    "\n",
    "# Save DataFrame to Excel file\n",
    "filename = f\"{ticker}_{start_date}_{end_date}.xlsx\"\n",
    "df.to_excel(filename, index=False)\n",
    "\n",
    "print(f\"Data saved to Excel file: {filename}\")"
   ]
  },
  {
   "cell_type": "code",
   "execution_count": 7,
   "id": "f2d359f0",
   "metadata": {},
   "outputs": [
    {
     "data": {
      "text/html": [
       "<div>\n",
       "<style scoped>\n",
       "    .dataframe tbody tr th:only-of-type {\n",
       "        vertical-align: middle;\n",
       "    }\n",
       "\n",
       "    .dataframe tbody tr th {\n",
       "        vertical-align: top;\n",
       "    }\n",
       "\n",
       "    .dataframe thead th {\n",
       "        text-align: right;\n",
       "    }\n",
       "</style>\n",
       "<table border=\"1\" class=\"dataframe\">\n",
       "  <thead>\n",
       "    <tr style=\"text-align: right;\">\n",
       "      <th></th>\n",
       "      <th>date</th>\n",
       "      <th>open</th>\n",
       "      <th>high</th>\n",
       "      <th>low</th>\n",
       "      <th>close</th>\n",
       "      <th>volume</th>\n",
       "    </tr>\n",
       "  </thead>\n",
       "  <tbody>\n",
       "    <tr>\n",
       "      <th>0</th>\n",
       "      <td>2024-08-26 13:30:00</td>\n",
       "      <td>226.840</td>\n",
       "      <td>227.195</td>\n",
       "      <td>226.320</td>\n",
       "      <td>226.820</td>\n",
       "      <td>15378.0</td>\n",
       "    </tr>\n",
       "    <tr>\n",
       "      <th>1</th>\n",
       "      <td>2024-08-26 13:35:00</td>\n",
       "      <td>226.890</td>\n",
       "      <td>226.940</td>\n",
       "      <td>226.640</td>\n",
       "      <td>226.685</td>\n",
       "      <td>10578.0</td>\n",
       "    </tr>\n",
       "    <tr>\n",
       "      <th>2</th>\n",
       "      <td>2024-08-26 13:40:00</td>\n",
       "      <td>226.680</td>\n",
       "      <td>226.750</td>\n",
       "      <td>226.230</td>\n",
       "      <td>226.550</td>\n",
       "      <td>4980.0</td>\n",
       "    </tr>\n",
       "    <tr>\n",
       "      <th>3</th>\n",
       "      <td>2024-08-26 13:45:00</td>\n",
       "      <td>226.540</td>\n",
       "      <td>226.620</td>\n",
       "      <td>226.065</td>\n",
       "      <td>226.120</td>\n",
       "      <td>12429.0</td>\n",
       "    </tr>\n",
       "    <tr>\n",
       "      <th>4</th>\n",
       "      <td>2024-08-26 13:50:00</td>\n",
       "      <td>226.115</td>\n",
       "      <td>226.535</td>\n",
       "      <td>226.030</td>\n",
       "      <td>226.400</td>\n",
       "      <td>10453.0</td>\n",
       "    </tr>\n",
       "  </tbody>\n",
       "</table>\n",
       "</div>"
      ],
      "text/plain": [
       "                 date     open     high      low    close   volume\n",
       "0 2024-08-26 13:30:00  226.840  227.195  226.320  226.820  15378.0\n",
       "1 2024-08-26 13:35:00  226.890  226.940  226.640  226.685  10578.0\n",
       "2 2024-08-26 13:40:00  226.680  226.750  226.230  226.550   4980.0\n",
       "3 2024-08-26 13:45:00  226.540  226.620  226.065  226.120  12429.0\n",
       "4 2024-08-26 13:50:00  226.115  226.535  226.030  226.400  10453.0"
      ]
     },
     "execution_count": 7,
     "metadata": {},
     "output_type": "execute_result"
    }
   ],
   "source": [
    "df.head()"
   ]
  },
  {
   "cell_type": "code",
   "execution_count": 8,
   "id": "4a8bf78e",
   "metadata": {},
   "outputs": [
    {
     "name": "stdout",
     "output_type": "stream",
     "text": [
      "2024-08-24\n"
     ]
    }
   ],
   "source": [
    "print(start_date)"
   ]
  }
 ],
 "metadata": {
  "kernelspec": {
   "display_name": "Python 3 (ipykernel)",
   "language": "python",
   "name": "python3"
  },
  "language_info": {
   "codemirror_mode": {
    "name": "ipython",
    "version": 3
   },
   "file_extension": ".py",
   "mimetype": "text/x-python",
   "name": "python",
   "nbconvert_exporter": "python",
   "pygments_lexer": "ipython3",
   "version": "3.9.12"
  }
 },
 "nbformat": 4,
 "nbformat_minor": 5
}
