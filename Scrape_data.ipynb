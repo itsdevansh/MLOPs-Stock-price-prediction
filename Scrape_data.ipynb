{
 "cells": [
  {
   "cell_type": "code",
   "execution_count": 1,
   "id": "05acc6d7",
   "metadata": {},
   "outputs": [
    {
     "name": "stdout",
     "output_type": "stream",
     "text": [
      "{'ticker': 'AAPL', 'name': 'Apple Inc', 'description': \"Apple Inc. (Apple) designs, manufactures and markets mobile communication and media devices, personal computers, and portable digital music players, and a variety of related software, services, peripherals, networking solutions, and third-party digital content and applications. The Company's products and services include iPhone, iPad, Mac, iPod, Apple TV, a portfolio of consumer and professional software applications, the iOS and OS X operating systems, iCloud, and a variety of accessory, service and support offerings. The Company also delivers digital content and applications through the iTunes Store, App StoreSM, iBookstoreSM, and Mac App Store. The Company distributes its products worldwide through its retail stores, online stores, and direct sales force, as well as through third-party cellular network carriers, wholesalers, retailers, and value-added resellers. In February 2012, the Company acquired app-search engine Chomp.\", 'startDate': '1980-12-12', 'endDate': '2024-08-26', 'exchangeCode': 'NASDAQ'}\n"
     ]
    }
   ],
   "source": [
    "import requests\n",
    "\n",
    "headers = {\n",
    "    'Content-Type': 'application/json'\n",
    "}\n",
    "requestResponse = requests.get(\"https://api.tiingo.com/tiingo/daily/aapl?token=\"YOUR_TOKEN\"\", headers=headers)\n",
    "print(requestResponse.json())"
   ]
  },
  {
   "cell_type": "markdown",
   "id": "9c635591",
   "metadata": {},
   "source": [
    "##  This is Intraday data freq = every 5 MIns"
   ]
  },
  {
   "cell_type": "code",
   "execution_count": 7,
   "id": "c6c89e5c",
   "metadata": {},
   "outputs": [
    {
     "name": "stdout",
     "output_type": "stream",
     "text": [
      "{'detail': 'Not found.'}\n"
     ]
    }
   ],
   "source": [
    "headers = {\n",
    "    'Content-Type': 'application/json'\n",
    "}\n",
    "requestResponse = requests.get(\"https://api.tiingo.com/iex/<ticker>/prices?startDate=2024-08-28&endDate=2024-09-23&resampleFreq=5min&afterHours=False&columns=open,high,low,close,volume&token=e9099efb79717f8ff3d48cd67ab8ae71a6f71966\", headers=headers)\n",
    "print(requestResponse.json())"
   ]
  },
  {
   "cell_type": "code",
   "execution_count": 15,
   "id": "4e5dc641",
   "metadata": {},
   "outputs": [],
   "source": [
    "import requests\n",
    "import pandas as pd\n",
    "from datetime import datetime, timedelta\n",
    "\n",
    "# Tiingo API Key\n",
    "API_KEY = 'e9099efb79717f8ff3d48cd67ab8ae71a6f71966'  # Replace with your actual API key"
   ]
  },
  {
   "cell_type": "code",
   "execution_count": 16,
   "id": "3de6bc72",
   "metadata": {},
   "outputs": [],
   "source": [
    "def get_trading_data(ticker, start_date, end_date):\n",
    "    # Construct the API URL\n",
    "    url = f\"https://api.tiingo.com/iex/{ticker}/prices\"\n",
    "    headers = {'Content-Type': 'application/json'}\n",
    "    params = {\n",
    "        'token': API_KEY,\n",
    "        'startDate': start_date,\n",
    "        'endDate': end_date,\n",
    "        'resampleFreq': '5min',\n",
    "        'afterHours': 'false',\n",
    "        columns=open,high,low,close,volume\n",
    "    }\n",
    "\n",
    "    # Make the request\n",
    "    response = requests.get(url, headers=headers, params=params)\n",
    "    data = response.json()\n",
    "    return data\n",
    "\n",
    "def filter_trading_hours(data):\n",
    "    trading_data = []\n",
    "    for item in data:\n",
    "        # Parse and convert the timestamp to datetime object with timezone info\n",
    "        timestamp = datetime.fromisoformat(item['date'].replace('Z', '+00:00')).astimezone()\n",
    "        \n",
    "        # Filter for active trading hours (9:30 AM to 4:00 PM New York time)\n",
    "        if timestamp.hour >= 9 and timestamp.minute >= 30 and timestamp.hour < 16:\n",
    "            # Remove timezone information\n",
    "            item['date'] = timestamp.replace(tzinfo=None).isoformat()\n",
    "            trading_data.append(item)\n",
    "    return trading_data\n",
    "\n",
    "def get_last_n_trading_days(ticker, n_days):\n",
    "    end_date = datetime.now()\n",
    "    start_date = end_date - timedelta(days=10)  # Look back 10 days to ensure 3 trading days are covered\n",
    "\n",
    "    raw_data = get_trading_data(ticker, start_date.strftime('%Y-%m-%d'), end_date.strftime('%Y-%m-%d'))\n",
    "    filtered_data = filter_trading_hours(raw_data)\n",
    "\n",
    "    # Convert to DataFrame\n",
    "    df = pd.DataFrame(filtered_data)\n",
    "    df['date'] = pd.to_datetime(df['date'])\n",
    "\n",
    "    # Ensure only the last n trading days are included\n",
    "    trading_days = df['date'].dt.date.unique()[-n_days:]\n",
    "    df = df[df['date'].dt.date.isin(trading_days)]\n",
    "\n",
    "    # Remove timezone information if any remains\n",
    "    df['date'] = df['date'].dt.tz_localize(None)\n",
    "    \n",
    "    return df\n"
   ]
  },
  {
   "cell_type": "code",
   "execution_count": 17,
   "id": "45e3c3fe",
   "metadata": {},
   "outputs": [],
   "source": [
    "def save_to_excel(df, filename):\n",
    "    # Save DataFrame to Excel\n",
    "    df.to_excel(filename, index=False)\n",
    "\n",
    "# Get last 3 active trading days for AAPL\n",
    "df_aapl = get_last_n_trading_days('aapl', 3)\n",
    "df_aapl.head()\n",
    "# Save to Excel\n",
    "save_to_excel(df_aapl, 'AAPL_Last_3_Trading_Days.xlsx')\n"
   ]
  },
  {
   "cell_type": "code",
   "execution_count": 18,
   "id": "c10f34ce",
   "metadata": {},
   "outputs": [
    {
     "name": "stdout",
     "output_type": "stream",
     "text": [
      "[{'date': '2024-09-03T13:30:00.000Z', 'close': 227.015, 'high': 229.0, 'low': 226.925, 'open': 228.615}, {'date': '2024-09-03T13:35:00.000Z', 'close': 227.09, 'high': 227.685, 'low': 226.625, 'open': 227.05}, {'date': '2024-09-03T13:40:00.000Z', 'close': 226.035, 'high': 227.155, 'low': 226.035, 'open': 227.07}, {'date': '2024-09-03T13:45:00.000Z', 'close': 226.135, 'high': 226.14, 'low': 225.315, 'open': 226.035}, {'date': '2024-09-03T13:50:00.000Z', 'close': 225.65, 'high': 226.715, 'low': 225.55, 'open': 226.125}, {'date': '2024-09-03T13:55:00.000Z', 'close': 226.17, 'high': 226.24, 'low': 225.52, 'open': 225.54}, {'date': '2024-09-03T14:00:00.000Z', 'close': 225.94, 'high': 226.49, 'low': 225.56, 'open': 225.91}, {'date': '2024-09-03T14:05:00.000Z', 'close': 225.535, 'high': 226.27, 'low': 225.39, 'open': 225.96}, {'date': '2024-09-03T14:10:00.000Z', 'close': 224.875, 'high': 225.595, 'low': 224.86, 'open': 225.49}, {'date': '2024-09-03T14:15:00.000Z', 'close': 225.23, 'high': 225.255, 'low': 224.745, 'open': 224.885}, {'date': '2024-09-03T14:20:00.000Z', 'close': 225.35, 'high': 225.535, 'low': 225.16, 'open': 225.18}, {'date': '2024-09-03T14:25:00.000Z', 'close': 225.325, 'high': 225.645, 'low': 225.19, 'open': 225.36}, {'date': '2024-09-03T14:30:00.000Z', 'close': 224.865, 'high': 225.265, 'low': 224.44, 'open': 225.255}, {'date': '2024-09-03T14:35:00.000Z', 'close': 224.575, 'high': 224.875, 'low': 224.4, 'open': 224.87}, {'date': '2024-09-03T14:40:00.000Z', 'close': 224.17, 'high': 224.78, 'low': 224.16, 'open': 224.57}, {'date': '2024-09-03T14:45:00.000Z', 'close': 224.135, 'high': 224.435, 'low': 223.99, 'open': 224.155}, {'date': '2024-09-03T14:50:00.000Z', 'close': 223.645, 'high': 224.485, 'low': 223.52, 'open': 224.115}, {'date': '2024-09-03T14:55:00.000Z', 'close': 223.625, 'high': 223.87, 'low': 223.535, 'open': 223.67}, {'date': '2024-09-03T15:00:00.000Z', 'close': 224.125, 'high': 224.275, 'low': 223.65, 'open': 223.665}, {'date': '2024-09-03T15:05:00.000Z', 'close': 224.235, 'high': 224.5, 'low': 224.04, 'open': 224.125}, {'date': '2024-09-03T15:10:00.000Z', 'close': 224.445, 'high': 224.545, 'low': 224.125, 'open': 224.23}, {'date': '2024-09-03T15:15:00.000Z', 'close': 224.395, 'high': 224.675, 'low': 224.295, 'open': 224.49}, {'date': '2024-09-03T15:20:00.000Z', 'close': 224.27, 'high': 224.415, 'low': 224.195, 'open': 224.395}, {'date': '2024-09-03T15:25:00.000Z', 'close': 223.845, 'high': 224.49, 'low': 223.83, 'open': 224.295}, {'date': '2024-09-03T15:30:00.000Z', 'close': 224.08, 'high': 224.18, 'low': 223.615, 'open': 223.91}, {'date': '2024-09-03T15:35:00.000Z', 'close': 224.27, 'high': 224.43, 'low': 224.08, 'open': 224.095}, {'date': '2024-09-03T15:40:00.000Z', 'close': 223.6, 'high': 224.28, 'low': 223.575, 'open': 224.215}, {'date': '2024-09-03T15:45:00.000Z', 'close': 223.895, 'high': 224.025, 'low': 223.605, 'open': 223.605}, {'date': '2024-09-03T15:50:00.000Z', 'close': 223.65, 'high': 223.97, 'low': 223.435, 'open': 223.9}, {'date': '2024-09-03T15:55:00.000Z', 'close': 223.525, 'high': 223.74, 'low': 223.27, 'open': 223.68}, {'date': '2024-09-03T16:00:00.000Z', 'close': 223.855, 'high': 223.86, 'low': 223.53, 'open': 223.55}, {'date': '2024-09-03T16:05:00.000Z', 'close': 223.62, 'high': 223.93, 'low': 223.51, 'open': 223.855}, {'date': '2024-09-03T16:10:00.000Z', 'close': 223.875, 'high': 223.9, 'low': 223.345, 'open': 223.63}, {'date': '2024-09-03T16:15:00.000Z', 'close': 224.02, 'high': 224.3, 'low': 223.835, 'open': 223.87}, {'date': '2024-09-03T16:20:00.000Z', 'close': 223.93, 'high': 224.17, 'low': 223.92, 'open': 224.055}, {'date': '2024-09-03T16:25:00.000Z', 'close': 223.885, 'high': 223.935, 'low': 223.715, 'open': 223.9}, {'date': '2024-09-03T16:30:00.000Z', 'close': 223.91, 'high': 224.03, 'low': 223.785, 'open': 223.86}, {'date': '2024-09-03T16:35:00.000Z', 'close': 223.91, 'high': 224.005, 'low': 223.755, 'open': 223.895}, {'date': '2024-09-03T16:40:00.000Z', 'close': 223.73, 'high': 223.895, 'low': 223.59, 'open': 223.87}, {'date': '2024-09-03T16:45:00.000Z', 'close': 223.715, 'high': 223.735, 'low': 223.52, 'open': 223.73}, {'date': '2024-09-03T16:50:00.000Z', 'close': 223.855, 'high': 223.875, 'low': 223.595, 'open': 223.735}, {'date': '2024-09-03T16:55:00.000Z', 'close': 223.695, 'high': 223.925, 'low': 223.59, 'open': 223.885}, {'date': '2024-09-03T17:00:00.000Z', 'close': 223.855, 'high': 223.91, 'low': 223.69, 'open': 223.71}, {'date': '2024-09-03T17:05:00.000Z', 'close': 223.88, 'high': 224.06, 'low': 223.765, 'open': 223.84}, {'date': '2024-09-03T17:10:00.000Z', 'close': 223.57, 'high': 223.94, 'low': 223.52, 'open': 223.89}, {'date': '2024-09-03T17:15:00.000Z', 'close': 223.72, 'high': 223.755, 'low': 223.53, 'open': 223.57}, {'date': '2024-09-03T17:20:00.000Z', 'close': 224.14, 'high': 224.145, 'low': 223.67, 'open': 223.745}, {'date': '2024-09-03T17:25:00.000Z', 'close': 223.81, 'high': 224.105, 'low': 223.785, 'open': 224.055}, {'date': '2024-09-03T17:30:00.000Z', 'close': 223.51, 'high': 223.92, 'low': 223.395, 'open': 223.82}, {'date': '2024-09-03T17:35:00.000Z', 'close': 223.895, 'high': 223.925, 'low': 223.425, 'open': 223.52}, {'date': '2024-09-03T17:40:00.000Z', 'close': 223.495, 'high': 223.895, 'low': 223.45, 'open': 223.87}, {'date': '2024-09-03T17:45:00.000Z', 'close': 223.48, 'high': 223.525, 'low': 223.32, 'open': 223.48}, {'date': '2024-09-03T17:50:00.000Z', 'close': 223.46, 'high': 223.565, 'low': 223.315, 'open': 223.47}, {'date': '2024-09-03T17:55:00.000Z', 'close': 223.23, 'high': 223.52, 'low': 223.16, 'open': 223.48}, {'date': '2024-09-03T18:00:00.000Z', 'close': 222.915, 'high': 223.315, 'low': 222.79, 'open': 223.215}, {'date': '2024-09-03T18:05:00.000Z', 'close': 222.59, 'high': 222.9, 'low': 222.38, 'open': 222.89}, {'date': '2024-09-03T18:10:00.000Z', 'close': 222.39, 'high': 222.695, 'low': 222.265, 'open': 222.58}, {'date': '2024-09-03T18:15:00.000Z', 'close': 221.965, 'high': 222.39, 'low': 221.89, 'open': 222.37}, {'date': '2024-09-03T18:20:00.000Z', 'close': 222.22, 'high': 222.265, 'low': 221.84, 'open': 221.93}, {'date': '2024-09-03T18:25:00.000Z', 'close': 222.16, 'high': 222.39, 'low': 222.11, 'open': 222.24}, {'date': '2024-09-03T18:30:00.000Z', 'close': 222.58, 'high': 222.6, 'low': 222.04, 'open': 222.115}, {'date': '2024-09-03T18:35:00.000Z', 'close': 222.46, 'high': 222.755, 'low': 222.3, 'open': 222.6}, {'date': '2024-09-03T18:40:00.000Z', 'close': 222.135, 'high': 222.475, 'low': 222.125, 'open': 222.44}, {'date': '2024-09-03T18:45:00.000Z', 'close': 222.085, 'high': 222.39, 'low': 222.06, 'open': 222.155}, {'date': '2024-09-03T18:50:00.000Z', 'close': 221.9, 'high': 222.19, 'low': 221.84, 'open': 222.09}, {'date': '2024-09-03T18:55:00.000Z', 'close': 221.94, 'high': 222.18, 'low': 221.825, 'open': 221.9}, {'date': '2024-09-03T19:00:00.000Z', 'close': 222.08, 'high': 222.15, 'low': 221.875, 'open': 221.94}, {'date': '2024-09-03T19:05:00.000Z', 'close': 221.975, 'high': 222.265, 'low': 221.945, 'open': 222.075}, {'date': '2024-09-03T19:10:00.000Z', 'close': 222.33, 'high': 222.44, 'low': 221.77, 'open': 222.005}, {'date': '2024-09-03T19:15:00.000Z', 'close': 222.43, 'high': 222.45, 'low': 222.22, 'open': 222.38}, {'date': '2024-09-03T19:20:00.000Z', 'close': 222.305, 'high': 222.725, 'low': 222.29, 'open': 222.45}, {'date': '2024-09-03T19:25:00.000Z', 'close': 222.455, 'high': 222.47, 'low': 222.145, 'open': 222.305}, {'date': '2024-09-03T19:30:00.000Z', 'close': 222.2, 'high': 222.53, 'low': 222.13, 'open': 222.445}, {'date': '2024-09-03T19:35:00.000Z', 'close': 221.975, 'high': 222.225, 'low': 221.92, 'open': 222.2}, {'date': '2024-09-03T19:40:00.000Z', 'close': 221.845, 'high': 222.04, 'low': 221.575, 'open': 221.96}, {'date': '2024-09-03T19:45:00.000Z', 'close': 221.83, 'high': 221.885, 'low': 221.175, 'open': 221.855}, {'date': '2024-09-03T19:50:00.000Z', 'close': 222.29, 'high': 222.48, 'low': 221.87, 'open': 221.87}, {'date': '2024-09-03T19:55:00.000Z', 'close': 222.68, 'high': 222.68, 'low': 222.13, 'open': 222.28}]\n"
     ]
    }
   ],
   "source": [
    "print(data)"
   ]
  },
  {
   "cell_type": "code",
   "execution_count": null,
   "id": "56bd383b",
   "metadata": {},
   "outputs": [],
   "source": []
  }
 ],
 "metadata": {
  "kernelspec": {
   "display_name": "Python 3 (ipykernel)",
   "language": "python",
   "name": "python3"
  },
  "language_info": {
   "codemirror_mode": {
    "name": "ipython",
    "version": 3
   },
   "file_extension": ".py",
   "mimetype": "text/x-python",
   "name": "python",
   "nbconvert_exporter": "python",
   "pygments_lexer": "ipython3",
   "version": "3.9.12"
  }
 },
 "nbformat": 4,
 "nbformat_minor": 5
}
