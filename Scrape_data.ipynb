{
 "cells": [
  {
   "cell_type": "code",
   "execution_count": 3,
   "id": "05acc6d7",
   "metadata": {},
   "outputs": [
    {
     "name": "stdout",
     "output_type": "stream",
     "text": [
      "{'ticker': 'AAPL', 'name': 'Apple Inc', 'description': \"Apple Inc. (Apple) designs, manufactures and markets mobile communication and media devices, personal computers, and portable digital music players, and a variety of related software, services, peripherals, networking solutions, and third-party digital content and applications. The Company's products and services include iPhone, iPad, Mac, iPod, Apple TV, a portfolio of consumer and professional software applications, the iOS and OS X operating systems, iCloud, and a variety of accessory, service and support offerings. The Company also delivers digital content and applications through the iTunes Store, App StoreSM, iBookstoreSM, and Mac App Store. The Company distributes its products worldwide through its retail stores, online stores, and direct sales force, as well as through third-party cellular network carriers, wholesalers, retailers, and value-added resellers. In February 2012, the Company acquired app-search engine Chomp.\", 'startDate': '1980-12-12', 'endDate': '2024-09-03', 'exchangeCode': 'NASDAQ'}\n"
     ]
    }
   ],
   "source": [
    "import requests\n",
    "\n",
    "headers = {\n",
    "    'Content-Type': 'application/json'\n",
    "}\n",
    "requestResponse = requests.get(\"https://api.tiingo.com/tiingo/daily/aapl?token=e9099efb79717f8ff3d48cd67ab8ae71a6f71966\", headers=headers)\n",
    "print(requestResponse.json())"
   ]
  },
  {
   "cell_type": "markdown",
   "id": "9c635591",
   "metadata": {},
   "source": [
    "##  This is Intraday data freq = every 5 MIns"
   ]
  },
  {
   "cell_type": "code",
   "execution_count": 6,
   "id": "c6c89e5c",
   "metadata": {},
   "outputs": [
    {
     "name": "stdout",
     "output_type": "stream",
     "text": [
      "{'detail': 'Not found.'}\n"
     ]
    }
   ],
   "source": [
    "headers = {\n",
    "    'Content-Type': 'application/json'\n",
    "}\n",
    "requestResponse = requests.get(\"https://api.tiingo.com/iex/<ticker>/prices?startDate=2024-08-28&endDate=2024-09-23&resampleFreq=5min&afterHours=False&columns=open,high,low,close,volume&token=e9099efb79717f8ff3d48cd67ab8ae71a6f71966\", headers=headers)\n",
    "print(requestResponse.json())"
   ]
  },
  {
   "cell_type": "code",
   "execution_count": 7,
   "id": "4e5dc641",
   "metadata": {},
   "outputs": [],
   "source": [
    "import requests\n",
    "import pandas as pd\n",
    "from datetime import datetime, timedelta\n",
    "\n",
    "# Tiingo API Key\n",
    "API_KEY = 'e9099efb79717f8ff3d48cd67ab8ae71a6f71966'  # Replace with your actual API key"
   ]
  },
  {
   "cell_type": "code",
   "execution_count": 45,
   "id": "3de6bc72",
   "metadata": {},
   "outputs": [],
   "source": [
    "def get_trading_data(ticker, start_date, end_date):\n",
    "    # Construct the API URL\n",
    "    url = f\"https://api.tiingo.com/iex/{ticker}/prices\"\n",
    "    headers = {'Content-Type': 'application/json'}\n",
    "    params = {\n",
    "        'token': API_KEY,\n",
    "        'startDate': start_date,\n",
    "        'endDate': end_date,\n",
    "        'resampleFreq': '5min',\n",
    "        'afterHours': 'false'\n",
    "    }\n",
    "\n",
    "    # Make the request\n",
    "    \n",
    "    response = requests.get(url, headers=headers, params=params)\n",
    "    data = response.json()\n",
    "    return data\n",
    "\n",
    "\n",
    "def filter_trading_hours(data):\n",
    "    trading_data = []\n",
    "    for item in data:\n",
    "        # Parse and convert the timestamp to datetime object with timezone info\n",
    "        timestamp = datetime.fromisoformat(item['date'].replace('Z', '+00:00')).astimezone()\n",
    "        \n",
    "        # Filter for active trading hours (9:30 AM to 4:00 PM New York time)\n",
    "        if timestamp.hour >= 9 and timestamp.minute >= 30 and timestamp.hour < 16:\n",
    "            # Remove timezone information\n",
    "            item['date'] = timestamp.replace(tzinfo=None).isoformat()\n",
    "            trading_data.append(item)\n",
    "    return trading_data\n",
    "\n",
    "def get_last_n_trading_days(ticker, n_days):\n",
    "    end_date = datetime.now()\n",
    "    start_date = end_date - timedelta(days=10)  # Look back 10 days to ensure 3 trading days are covered\n",
    "\n",
    "    raw_data = get_trading_data(ticker, start_date.strftime('%Y-%m-%d'), end_date.strftime('%Y-%m-%d'))\n",
    "    print(raw_data)\n",
    "    if type(raw_data) != list and raw_data['detail']:\n",
    "        return None\n",
    "    filtered_data = filter_trading_hours(raw_data)\n",
    "\n",
    "    # Convert to DataFrame\n",
    "    df = pd.DataFrame(filtered_data)\n",
    "    df['date'] = pd.to_datetime(df['date'])\n",
    "\n",
    "    # Ensure only the last n trading days are included\n",
    "    trading_days = df['date'].dt.date.unique()[-n_days:]\n",
    "    df = df[df['date'].dt.date.isin(trading_days)]\n",
    "\n",
    "    # Remove timezone information if any remains\n",
    "    df['date'] = df['date'].dt.tz_localize(None)\n",
    "    df.insert(1, 'ticker', ticker)\n",
    "    \n",
    "    return df\n"
   ]
  },
  {
   "cell_type": "code",
   "execution_count": 46,
   "id": "45e3c3fe",
   "metadata": {},
   "outputs": [
    {
     "name": "stdout",
     "output_type": "stream",
     "text": [
      "{'detail': 'Error: You have run over your hourly request allocation. Please upgrade at https://api.tiingo.com/pricing to have your limits increased.'}\n",
      "{'detail': 'Error: You have run over your hourly request allocation. Please upgrade at https://api.tiingo.com/pricing to have your limits increased.'}\n",
      "{'detail': 'Error: You have run over your hourly request allocation. Please upgrade at https://api.tiingo.com/pricing to have your limits increased.'}\n",
      "{'detail': 'Error: You have run over your hourly request allocation. Please upgrade at https://api.tiingo.com/pricing to have your limits increased.'}\n",
      "{'detail': 'Error: You have run over your hourly request allocation. Please upgrade at https://api.tiingo.com/pricing to have your limits increased.'}\n",
      "{'detail': 'Error: You have run over your hourly request allocation. Please upgrade at https://api.tiingo.com/pricing to have your limits increased.'}\n",
      "{'detail': 'Error: You have run over your hourly request allocation. Please upgrade at https://api.tiingo.com/pricing to have your limits increased.'}\n",
      "{'detail': 'Error: You have run over your hourly request allocation. Please upgrade at https://api.tiingo.com/pricing to have your limits increased.'}\n",
      "{'detail': 'Error: You have run over your hourly request allocation. Please upgrade at https://api.tiingo.com/pricing to have your limits increased.'}\n",
      "{'detail': 'Error: You have run over your hourly request allocation. Please upgrade at https://api.tiingo.com/pricing to have your limits increased.'}\n",
      "<bound method NDFrame.head of Empty DataFrame\n",
      "Columns: []\n",
      "Index: []>\n"
     ]
    }
   ],
   "source": [
    "tickers = [\n",
    "    \"AAPL\", \"MSFT\", \"AMZN\", \"GOOGL\", \"FB\", \"TSLA\", \"BRK.B\", \"NVDA\", \"JPM\", \"JNJ\",\n",
    "    \"V\", \"PG\", \"UNH\", \"HD\", \"DIS\", \"MA\", \"PYPL\", \"NFLX\", \"ADBE\", \"INTC\",\n",
    "    \"VZ\", \"CSCO\", \"PEP\", \"T\", \"KO\", \"MRK\", \"PFE\", \"ABT\", \"NKE\", \"ORCL\",\n",
    "    \"CRM\", \"XOM\", \"LLY\", \"WMT\", \"QCOM\", \"BAC\", \"ABBV\", \"COST\", \"MCD\", \"AMD\",\n",
    "    \"MDT\", \"HON\", \"AMGN\", \"NEE\", \"LOW\", \"BA\", \"AVGO\", \"UPS\", \"TXN\", \"UNP\",\n",
    "    \"CVX\", \"IBM\", \"DHR\", \"SBUX\", \"BMY\", \"MMM\", \"GS\", \"RTX\", \"BLK\", \"LIN\",\n",
    "    \"GE\", \"ISRG\", \"CAT\", \"SPGI\", \"TMO\", \"INTU\", \"PLD\", \"MO\", \"MS\", \"SCHW\",\n",
    "    \"LMT\", \"TJX\", \"AMT\", \"EL\", \"DE\", \"ADP\", \"SYK\", \"MDLZ\", \"ZTS\", \"C\",\n",
    "    \"BKNG\", \"NOW\", \"AXP\", \"CB\", \"ADI\", \"TGT\", \"MMC\", \"CSX\", \"DUK\", \"GILD\",\n",
    "    \"CCI\", \"ADSK\", \"FIS\", \"ICE\", \"MU\", \"SO\", \"REGN\", \"EW\", \"CL\", \"EQIX\"\n",
    "]\n",
    "\n",
    "df = pd.DataFrame()\n",
    "\n",
    "for ticker in tickers:\n",
    "    df_ticker = get_last_n_trading_days(ticker, 3)\n",
    "    if df_ticker is not None:\n",
    "        df = pd.concat([df, df_ticker], ignore_index=False)\n",
    "\n",
    "print(df.head)\n",
    "\n",
    "def save_to_excel(df, filename):\n",
    "    # Save DataFrame to Excel\n",
    "    df.to_excel(filename, index=False)\n",
    "\n",
    "# Get last 3 active trading days for AAPL\n",
    "# df_aapl = get_last_n_trading_days('aapl', 3)\n",
    "# Save to Excel\n",
    "# save_to_excel(df_aapl, 'AAPL_Last_3_Trading_Days.xlsx')\n"
   ]
  },
  {
   "cell_type": "code",
   "execution_count": null,
   "id": "56bd383b",
   "metadata": {},
   "outputs": [],
   "source": []
  }
 ],
 "metadata": {
  "kernelspec": {
   "display_name": "Python 3 (ipykernel)",
   "language": "python",
   "name": "python3"
  },
  "language_info": {
   "codemirror_mode": {
    "name": "ipython",
    "version": 3
   },
   "file_extension": ".py",
   "mimetype": "text/x-python",
   "name": "python",
   "nbconvert_exporter": "python",
   "pygments_lexer": "ipython3",
   "version": "3.12.4"
  }
 },
 "nbformat": 4,
 "nbformat_minor": 5
}
